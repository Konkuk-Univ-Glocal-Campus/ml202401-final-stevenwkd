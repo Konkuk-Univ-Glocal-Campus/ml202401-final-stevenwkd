{
  "cells": [
    {
      "cell_type": "markdown",
      "metadata": {},
      "source": [
        "-프로젝트 기본설정-"
      ]
    },
    {
      "cell_type": "code",
      "execution_count": 81,
      "metadata": {
        "id": "toWjapu4dyxH"
      },
      "outputs": [],
      "source": [
        "# 라이브러리 임포트\n",
        "import pandas as pd\n",
        "import numpy as np\n",
        "import nltk\n",
        "import re\n",
        "from nltk.corpus import stopwords\n",
        "from nltk.stem import WordNetLemmatizer\n",
        "from sklearn.model_selection import train_test_split, GridSearchCV\n",
        "from sklearn.feature_extraction.text import TfidfVectorizer\n",
        "from sklearn.linear_model import LogisticRegression\n",
        "from sklearn.metrics import accuracy_score, precision_score, recall_score, f1_score, roc_auc_score, confusion_matrix\n",
        "from sklearn.decomposition import PCA\n",
        "import matplotlib.pyplot as plt\n",
        "import seaborn as sns\n",
        "import time\n",
        "import warnings"
      ]
    },
    {
      "cell_type": "code",
      "execution_count": 82,
      "metadata": {
        "id": "RfGfsig1d0L6"
      },
      "outputs": [],
      "source": [
        "# 경고 메세지 무시\n",
        "warnings.filterwarnings(\"ignore\")"
      ]
    },
    {
      "cell_type": "code",
      "execution_count": 83,
      "metadata": {},
      "outputs": [
        {
          "name": "stdout",
          "output_type": "stream",
          "text": [
            "c:\\Users\\steve\\OneDrive\\바탕 화면\\mlfinal장승훈\n"
          ]
        }
      ],
      "source": [
        "# 파일 위치 확인\n",
        "import os\n",
        "print(os.getcwd())"
      ]
    },
    {
      "cell_type": "markdown",
      "metadata": {},
      "source": [
        "1. 데이터 전처리\n",
        "\n",
        "    저는 학번 마지막 숫자가 7로 홀수에 해당하니 amazon_uk_shoes_products_dataset_2021_12.csv 를 읽어와서 분석하겠습니다."
      ]
    },
    {
      "cell_type": "code",
      "execution_count": 84,
      "metadata": {
        "colab": {
          "base_uri": "https://localhost:8080/"
        },
        "id": "Cjgdmaxgd5Px",
        "outputId": "6f35983c-ce0b-4d18-cd42-ec5db8f96d7a"
      },
      "outputs": [
        {
          "name": "stdout",
          "output_type": "stream",
          "text": [
            "Total number of reviews: 6823\n",
            "Dataset Columns: Index(['url', 'product_name', 'reviewer_name', 'review_title', 'review_text',\n",
            "       'review_rating', 'verified_purchase', 'review_date', 'helpful_count',\n",
            "       'uniq_id', 'scraped_at'],\n",
            "      dtype='object')\n"
          ]
        }
      ],
      "source": [
        "# CSV 파일을 읽어 Pandas 데이터프레임으로 로드\n",
        "df = pd.read_csv('./amazon_uk_shoes_products_dataset_2021_12.csv')\n",
        "\n",
        "# 데이터프레임의 총 리뷰 수 출력\n",
        "print(f\"Total number of reviews: {df.shape[0]}\")\n",
        "\n",
        "# 데이터프레임의 열 이름 출력\n",
        "print(f\"Dataset Columns: {df.columns}\")"
      ]
    },
    {
      "cell_type": "code",
      "execution_count": 85,
      "metadata": {
        "colab": {
          "base_uri": "https://localhost:8080/"
        },
        "id": "OGeuCIk4d_5w",
        "outputId": "1dce75e8-5d21-4f45-cfae-f0b56a8a5b7e"
      },
      "outputs": [
        {
          "name": "stdout",
          "output_type": "stream",
          "text": [
            "<class 'pandas.core.frame.DataFrame'>\n",
            "RangeIndex: 6823 entries, 0 to 6822\n",
            "Data columns (total 11 columns):\n",
            " #   Column             Non-Null Count  Dtype  \n",
            "---  ------             --------------  -----  \n",
            " 0   url                6823 non-null   object \n",
            " 1   product_name       6823 non-null   object \n",
            " 2   reviewer_name      6823 non-null   object \n",
            " 3   review_title       6822 non-null   object \n",
            " 4   review_text        6814 non-null   object \n",
            " 5   review_rating      6823 non-null   float64\n",
            " 6   verified_purchase  6823 non-null   bool   \n",
            " 7   review_date        6823 non-null   object \n",
            " 8   helpful_count      1953 non-null   object \n",
            " 9   uniq_id            6823 non-null   object \n",
            " 10  scraped_at         6823 non-null   object \n",
            "dtypes: bool(1), float64(1), object(9)\n",
            "memory usage: 539.8+ KB\n",
            "None\n"
          ]
        }
      ],
      "source": [
        "# 데이터프레임의 요약 정보 출력\n",
        "print(df.info())"
      ]
    },
    {
      "cell_type": "code",
      "execution_count": 86,
      "metadata": {
        "colab": {
          "base_uri": "https://localhost:8080/"
        },
        "id": "W0aCcNVod_gK",
        "outputId": "c0c00ec3-de92-46c1-b5c3-5cb5af2c9327"
      },
      "outputs": [
        {
          "name": "stdout",
          "output_type": "stream",
          "text": [
            "                                      url  \\\n",
            "0  https://www.amazon.co.uk/dp/B07SBX32T5   \n",
            "1  https://www.amazon.co.uk/dp/B07SBX32T5   \n",
            "2  https://www.amazon.co.uk/dp/B07SBX32T5   \n",
            "3  https://www.amazon.co.uk/dp/B07SBX32T5   \n",
            "4  https://www.amazon.co.uk/dp/B08SW434MG   \n",
            "\n",
            "                                        product_name     reviewer_name  \\\n",
            "0  Klasified Women's Transparent Clear Sneaker Sh...  Jocelyn McSayles   \n",
            "1  Klasified Women's Transparent Clear Sneaker Sh...      Kenia Rivera   \n",
            "2  Klasified Women's Transparent Clear Sneaker Sh...       Chris Souza   \n",
            "3  Klasified Women's Transparent Clear Sneaker Sh...   Amazon Customer   \n",
            "4  GUESS Women's Bradly Gymnastics Shoe, White, 7 UK         Graziella   \n",
            "\n",
            "         review_title                                        review_text  \\\n",
            "0             Love em  Love these. Was looking for converses and thes...   \n",
            "1  The plastic ripped  The shoes are very cute, but after the 2nd day...   \n",
            "2        Good quality                                       Good quality   \n",
            "3                Good                                              Great   \n",
            "4          PERFETTE!!  Ho scelto il modello bianco con rifinitura die...   \n",
            "\n",
            "   review_rating  verified_purchase  \\\n",
            "0            5.0               True   \n",
            "1            2.0               True   \n",
            "2            5.0               True   \n",
            "3            5.0               True   \n",
            "4            5.0               True   \n",
            "\n",
            "                                        review_date  \\\n",
            "0      Reviewed in the United States on 2 June 2020   \n",
            "1  Reviewed in the United States on 28 October 2021   \n",
            "2  Reviewed in the United States on 20 January 2021   \n",
            "3    Reviewed in the United States on 22 April 2021   \n",
            "4                 Reviewed in Italy on 2 April 2021   \n",
            "\n",
            "                 helpful_count                               uniq_id  \\\n",
            "0  2 people found this helpful  36eae4e5-2894-5279-a0b7-d2b330e2b814   \n",
            "1                          NaN  f4778bb8-3070-5cb1-b5aa-ffce41a97b57   \n",
            "2                          NaN  db5a7525-d40b-5265-84d8-df4f29837a3b   \n",
            "3                          NaN  75a42851-6462-54b5-988a-27d336221943   \n",
            "4  2 people found this helpful  232dee43-849e-5d06-ba05-efb3f4814714   \n",
            "\n",
            "            scraped_at  \n",
            "0  24/12/2021 02:26:25  \n",
            "1  24/12/2021 02:26:25  \n",
            "2  24/12/2021 02:26:25  \n",
            "3  24/12/2021 02:26:25  \n",
            "4  24/12/2021 02:26:25  \n"
          ]
        }
      ],
      "source": [
        "# 데이터프레임의 처음 5개 행 출력\n",
        "print(df.head())"
      ]
    },
    {
      "cell_type": "code",
      "execution_count": 87,
      "metadata": {
        "colab": {
          "base_uri": "https://localhost:8080/"
        },
        "id": "dRx3KZFAeCfQ",
        "outputId": "8c8dd6f5-0404-4dbf-99fb-435e874ee4f6"
      },
      "outputs": [
        {
          "name": "stdout",
          "output_type": "stream",
          "text": [
            "Number of duplicate rows: 364\n"
          ]
        }
      ],
      "source": [
        "# 중복 데이터 확인\n",
        "dup = df.duplicated(subset=['uniq_id'], keep=False)\n",
        "# 중복된 행의 개수 확인\n",
        "count_dup = dup.sum()\n",
        "print(f\"Number of duplicate rows: {count_dup}\")"
      ]
    },
    {
      "cell_type": "code",
      "execution_count": 88,
      "metadata": {
        "colab": {
          "base_uri": "https://localhost:8080/"
        },
        "id": "VVDzbuiheGJl",
        "outputId": "2e52b114-0a21-4a89-a799-7d10b3389deb"
      },
      "outputs": [
        {
          "name": "stdout",
          "output_type": "stream",
          "text": [
            "# of rows after removing duplicates: 6641\n"
          ]
        }
      ],
      "source": [
        "# 중복 제거 후 행의 수 확인\n",
        "df_unique = df.drop_duplicates(subset=['uniq_id'], keep='first')\n",
        "print(f\"# of rows after removing duplicates: {len(df_unique)}\")"
      ]
    },
    {
      "cell_type": "markdown",
      "metadata": {},
      "source": [
        "결측값의 수를 계산한 후 결측값을 제거"
      ]
    },
    {
      "cell_type": "code",
      "execution_count": 89,
      "metadata": {
        "colab": {
          "base_uri": "https://localhost:8080/"
        },
        "id": "8G7CJo5OeKzE",
        "outputId": "519e0b32-1876-4376-bfff-07637e64a07c"
      },
      "outputs": [
        {
          "name": "stdout",
          "output_type": "stream",
          "text": [
            "Number of missing values in 'review_title': 1\n",
            "Number of missing values in 'review_text': 8\n",
            "Number of missing values in 'review_rating': 0\n"
          ]
        }
      ],
      "source": [
        "# 각 열에서 결측값의 개수를 계산\n",
        "print(f\"Number of missing values in 'review_title': {df_unique['review_title'].isnull().sum()}\")\n",
        "print(f\"Number of missing values in 'review_text': {df_unique['review_text'].isnull().sum()}\")\n",
        "print(f\"Number of missing values in 'review_rating': {df_unique['review_rating'].isnull().sum()}\")"
      ]
    },
    {
      "cell_type": "code",
      "execution_count": 90,
      "metadata": {
        "colab": {
          "base_uri": "https://localhost:8080/"
        },
        "id": "3_bmJ5KDeRfc",
        "outputId": "7ef379b1-370c-43f6-d157-2d20fe07eeb5"
      },
      "outputs": [
        {
          "name": "stdout",
          "output_type": "stream",
          "text": [
            "Number of rows after removing missing values: 6632\n"
          ]
        }
      ],
      "source": [
        "# 결측값 제거 후 남은 행의 개수 확인\n",
        "df_cleaned = df_unique.dropna(subset=[\"review_text\", \"review_title\"])\n",
        "print(f\"Number of rows after removing missing values: {len(df_cleaned)}\")"
      ]
    },
    {
      "cell_type": "markdown",
      "metadata": {},
      "source": [
        "노이즈 제거, 토큰화 및 불용어 제거, 정규화"
      ]
    },
    {
      "cell_type": "code",
      "execution_count": 91,
      "metadata": {
        "colab": {
          "base_uri": "https://localhost:8080/"
        },
        "id": "H90zF0bGeUR_",
        "outputId": "d8ce1b68-34c4-4f3e-bbbc-e52a2ea6549f"
      },
      "outputs": [
        {
          "name": "stderr",
          "output_type": "stream",
          "text": [
            "[nltk_data] Downloading package stopwords to\n",
            "[nltk_data]     C:\\Users\\steve\\AppData\\Roaming\\nltk_data...\n",
            "[nltk_data]   Package stopwords is already up-to-date!\n",
            "[nltk_data] Downloading package wordnet to\n",
            "[nltk_data]     C:\\Users\\steve\\AppData\\Roaming\\nltk_data...\n",
            "[nltk_data]   Package wordnet is already up-to-date!\n"
          ]
        }
      ],
      "source": [
        "# 데이터 전처리\n",
        "nltk.download('stopwords')\n",
        "nltk.download('wordnet')\n",
        "stop_words = set(stopwords.words('english'))\n",
        "lemmatizer = WordNetLemmatizer()\n",
        "special_chars = r'!\"#$%&\\'()*+,-./:;<=>?@[\\\\]^_`{|}~'\n",
        "\n",
        "# 텍스트 전처리 함수\n",
        "def preprocess_text(text):\n",
        "    # 소문자로 변환\n",
        "    text = text.lower()\n",
        "\n",
        "    # 특수문자 제거\n",
        "    text = re.sub(f'[{special_chars}]', '', text)\n",
        "\n",
        "    # 토큰화\n",
        "    tokens = nltk.word_tokenize(text)\n",
        "    \n",
        "    # 표제어 추출\n",
        "    tokens = [lemmatizer.lemmatize(word) for word in tokens if word.isalpha() and word not in stop_words]\n",
        "\n",
        "    return ' '.join(tokens)\n",
        "\n",
        "# 전처리\n",
        "df_cleaned['cleaned_review_text'] = df_cleaned['review_text'].apply(preprocess_text)"
      ]
    },
    {
      "cell_type": "markdown",
      "metadata": {},
      "source": [
        "2. 모델 구현"
      ]
    },
    {
      "cell_type": "markdown",
      "metadata": {},
      "source": [
        "VADER 감성 분석기를 초기화하고, 감성 점수를 계산하는 함수를 선언한 후\n",
        "텍스트의 감성을 분석하여 compound 점수를 반환합니다."
      ]
    },
    {
      "cell_type": "markdown",
      "metadata": {},
      "source": [
        "평점이 4 이상인 경우 긍정, 그렇지 않은 경우 부정으로 분류합니다."
      ]
    },
    {
      "cell_type": "markdown",
      "metadata": {},
      "source": [
        "전처리된 텍스트 데이터를 TF-IDF 벡터화하여 수치 벡터로 변환하고 각 단어의 중요도를 반영합니다.\n",
        "TF-IDF와 감성점수를 결합하여 행렬을 생성하고 모델이 텍스트 내용과 감성을 동시에 학습할 수 있게 합니다."
      ]
    },
    {
      "cell_type": "code",
      "execution_count": 92,
      "metadata": {
        "id": "fewoUp6jRlOV"
      },
      "outputs": [],
      "source": [
        "# VADER 감성 분석기 초기화\n",
        "vader_sentiment = SentimentIntensityAnalyzer()\n",
        "\n",
        "# 감성 점수 계산 함수 선언\n",
        "def calc_sentiment(review): \n",
        "    return vader_sentiment.polarity_scores(review)[\"compound\"]\n",
        "\n",
        "# 데이터 전처리 및 감성 점수 추가\n",
        "df_unique = df.drop_duplicates(subset=['uniq_id'], keep='first')\n",
        "df_cleaned = df_unique.dropna(subset=[\"review_text\", \"review_title\"])\n",
        "df_cleaned['cleaned_review_text'] = df_cleaned['review_text'].apply(preprocess_text)\n",
        "df_cleaned[\"text_compound\"] = df_cleaned[\"cleaned_review_text\"].apply(calc_sentiment)\n",
        "\n",
        "# 리뷰 평점을 이진 감성 레이블로 변환 (긍정/부정, 임계값: 4)\n",
        "df_cleaned['sentiment'] = df_cleaned['review_rating'].apply(lambda x: 'positive' if x >= 4 else 'negative')\n",
        "y = df_cleaned['sentiment']\n",
        "\n",
        "# TF-IDF 벡터화\n",
        "vectorizer = TfidfVectorizer(max_features=2000)\n",
        "X_tfidf = vectorizer.fit_transform(df_cleaned['cleaned_review_text']).toarray()\n",
        "\n",
        "# 감성 점수와 TF-IDF 결합\n",
        "X_sentiment = df_cleaned[['text_compound']].values\n",
        "X_combined = np.hstack((X_tfidf, X_sentiment))"
      ]
    },
    {
      "cell_type": "markdown",
      "metadata": {},
      "source": [
        "3. 모델 학습 및 튜닝"
      ]
    },
    {
      "cell_type": "markdown",
      "metadata": {},
      "source": [
        "데이터셋을 학습 및 테스트 세트로 분할하고\n",
        "\n",
        "그리드 서치를 이용하여 하피퍼파라미터 튜닝을 하며 5겹 교차 검증을 통해 각 하이퍼파라미터의 성능을 평가하고\n",
        "\n",
        "최적의 하이퍼파라미터를 선택합니다."
      ]
    },
    {
      "cell_type": "code",
      "execution_count": 93,
      "metadata": {},
      "outputs": [],
      "source": [
        "# 데이터를 학습 세트와 테스트 세트로 분할\n",
        "X_train, X_test, y_train, y_test = train_test_split(X, y, test_size=0.2, random_state=42)\n",
        "\n",
        "# 로지스틱 회귀와 그리드 서치\n",
        "model = LogisticRegression()\n",
        "parameters = {'C': [0.1, 1, 10], 'penalty': ['l2'], 'solver': ['lbfgs']}\n",
        "grid_search = GridSearchCV(model, parameters, cv=5, scoring='accuracy')\n",
        "grid_search.fit(X_train, y_train)\n",
        "best_model = grid_search.best_estimator_"
      ]
    },
    {
      "cell_type": "markdown",
      "metadata": {},
      "source": [
        "4. 모델 평가"
      ]
    },
    {
      "cell_type": "code",
      "execution_count": 94,
      "metadata": {},
      "outputs": [
        {
          "name": "stdout",
          "output_type": "stream",
          "text": [
            "Accuracy: 0.8568198944988696\n",
            "Precision: 0.8877455565949486\n",
            "Recall: 0.9313052011776252\n",
            "F1 Score: 0.9090038314176245\n",
            "ROC-AUC: 0.8850652536864508\n"
          ]
        }
      ],
      "source": [
        "# 모델 평가\n",
        "y_pred = best_model.predict(X_test)  # 테스트 세트에 대한 예측\n",
        "y_prob = best_model.predict_proba(X_test)[:, 1]  # 양성 클래스의 예측 확률\n",
        "\n",
        "# 정확도, 정밀도, 재현율, F1 점수, ROC-AUC 점수 계산\n",
        "accuracy = accuracy_score(y_test, y_pred)\n",
        "precision = precision_score(y_test, y_pred, pos_label='positive')\n",
        "recall = recall_score(y_test, y_pred, pos_label='positive')\n",
        "f1 = f1_score(y_test, y_pred, pos_label='positive')\n",
        "roc_auc = roc_auc_score(y_test, y_prob)\n",
        "\n",
        "# 평가 결과 출력\n",
        "print(f'Accuracy: {accuracy}')  # 정확도 출력\n",
        "print(f'Precision: {precision}')  # 정밀도 출력\n",
        "print(f'Recall: {recall}')  # 재현율 출력\n",
        "print(f'F1 Score: {f1}')  # F1 점수 출력\n",
        "print(f'ROC-AUC: {roc_auc}')  # ROC-AUC 점수 출력"
      ]
    },
    {
      "cell_type": "markdown",
      "metadata": {},
      "source": [
        "정확도 (Accuracy): 약 0.85\n",
        "대부분의 경우에 대해 올바르게 예측했지만 살짝 아쉬운 수치입니다.\n",
        "\n",
        "정밀도 (Precision) : 약 0.88\n",
        "대부분의 경우에 대해 올바르게 예측 했음을 알 수 있습니다.\n",
        "\n",
        "재현율 (Recall) : 약 0.93\n",
        "90% 이상의 높은 수치로, 대부분의 경우에 대해 올바르게 예측 했음을 알 수 있습니다.\n",
        "\n",
        "F1 점수 (F1 Score) : 약 0.90\n",
        "이 역시 높은 수치로, 우수한 성능을 보였음을 의미합니다.\n",
        "\n",
        "ROC-AUC 점수 (ROC-AUC) : 약 0.88\n",
        "꽤 높은 수치로 양성과 음성을 잘 구분하는것으로 보입니다.\n",
        "\n",
        "\n"
      ]
    },
    {
      "cell_type": "markdown",
      "metadata": {},
      "source": [
        "5. 시각화 및 보고"
      ]
    },
    {
      "cell_type": "markdown",
      "metadata": {},
      "source": [
        "True Negative (TN): 188\n",
        "모델이 실제 부정 리뷰를 부정으로 정확히 예측한 수\n",
        "\n",
        "False Positive (FP): 120\n",
        "모델이 실제 부정 리뷰를 긍정으로 잘못 예측한 수\n",
        "\n",
        "False Negative (FN): 70\n",
        "모델이 실제 긍정 리뷰를 부정으로 잘못 예측한 수\n",
        "\n",
        "True Positive (TP): 949\n",
        "모델이 실제 긍정을 긍정으로 정확히 예측한 수"
      ]
    },
    {
      "cell_type": "markdown",
      "metadata": {},
      "source": [
        "ROC 곡선이 대각선 기준선보다 위에 위치할수록 더 우수한 모델임을 뜻하는데, 이 모델이 대각선보다 위에 위치하여\n",
        "\n",
        "좋은 성능을 낸다는 것을 알 수 있습니다.\n",
        "\n",
        "AUC는 0.89로, 모델이 양성과 음성을 잘 구분하고 있음을 뜻합니다."
      ]
    },
    {
      "cell_type": "code",
      "execution_count": 96,
      "metadata": {
        "colab": {
          "base_uri": "https://localhost:8080/",
          "height": 1000
        },
        "id": "-kuk5rqeefD5",
        "outputId": "1272ce9a-a317-440a-d36e-b3291f0d6568"
      },
      "outputs": [
        {
          "data": {
            "image/png": "[encoded data removed]",
            "text/plain": [
              "<Figure size 800x600 with 2 Axes>"
            ]
          },
          "metadata": {},
          "output_type": "display_data"
        },
        {
          "data": {
            "image/png": "[encoded data removed]",
            "text/plain": [
              "<Figure size 800x600 with 1 Axes>"
            ]
          },
          "metadata": {},
          "output_type": "display_data"
        }
      ],
      "source": [
        "# 혼동 행렬 시각화\n",
        "cm = confusion_matrix(y_test, y_pred)\n",
        "plt.figure(figsize=(8, 6))\n",
        "sns.heatmap(cm, annot=True, fmt='d', cmap='Blues') \n",
        "plt.xlabel('Predicted')\n",
        "plt.ylabel('Actual')\n",
        "plt.title('Confusion Matrix')\n",
        "plt.show()\n",
        "\n",
        "# ROC 곡선 시각화\n",
        "from sklearn.metrics import roc_curve\n",
        "\n",
        "fpr, tpr, thresholds = roc_curve(y_test, y_prob, pos_label='positive')\n",
        "plt.figure(figsize=(8, 6))\n",
        "plt.plot(fpr, tpr, label=f'ROC Curve (area = {roc_auc:.2f})')\n",
        "plt.plot([0, 1], [0, 1], 'k--')\n",
        "plt.xlabel('False Positive Rate')\n",
        "plt.ylabel('True Positive Rate')\n",
        "plt.title('ROC Curve')\n",
        "plt.legend()\n",
        "plt.show()\n"
      ]
    }
  ],
  "metadata": {
    "colab": {
      "provenance": []
    },
    "kernelspec": {
      "display_name": "Python 3",
      "name": "python3"
    },
    "language_info": {
      "codemirror_mode": {
        "name": "ipython",
        "version": 3
      },
      "file_extension": ".py",
      "mimetype": "text/x-python",
      "name": "python",
      "nbconvert_exporter": "python",
      "pygments_lexer": "ipython3",
      "version": "3.10.5"
    }
  },
  "nbformat": 4,
  "nbformat_minor": 0
}
